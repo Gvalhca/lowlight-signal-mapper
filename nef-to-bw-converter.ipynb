{
 "cells": [
  {
   "cell_type": "code",
   "execution_count": 11,
   "outputs": [],
   "source": [
    "import os.path\n",
    "\n",
    "import matplotlib.pyplot as plt\n",
    "import numpy as np\n",
    "import cv2\n"
   ],
   "metadata": {
    "collapsed": false
   }
  },
  {
   "cell_type": "code",
   "execution_count": 12,
   "outputs": [],
   "source": [
    "def show(image):\n",
    "    plt.figure(figsize=(10, 10))\n",
    "    plt.imshow(cv2.cvtColor(image, cv2.COLOR_BGR2RGB))\n",
    "    plt.axis('off')\n",
    "    plt.show()\n",
    "\n",
    "\n",
    "def show_raw(image):\n",
    "    plt.figure(figsize=(30, 30))\n",
    "    plt.imshow(cv2.cvtColor(image, cv2.COLOR_BGR2RGB))\n",
    "    plt.axis('off')\n",
    "    plt.show()"
   ],
   "metadata": {
    "collapsed": false
   }
  },
  {
   "cell_type": "code",
   "execution_count": 13,
   "outputs": [],
   "source": [
    "img_name = 'P10_8175.JPG'\n",
    "dir_name = 'H_18-11-22/Map10-Calibration_5ms'\n",
    "img_path = os.path.join(dir_name, img_name)\n",
    "save_dir = './Converted'\n",
    "# img = cv2.imread(img_path)\n",
    "# show(img)\n",
    "# print(img.shape)"
   ],
   "metadata": {
    "collapsed": false
   }
  },
  {
   "cell_type": "code",
   "execution_count": null,
   "outputs": [
    {
     "name": "stdout",
     "output_type": "stream",
     "text": [
      "./H_18-11-22/Map10-Calibration_5ms/C10_8627.NEF\n",
      "./Converted/C10_8627\n",
      "./H_18-11-22/Map10-Calibration_5ms/C10_8786.NEF\n",
      "./Converted/C10_8786\n",
      "./H_18-11-22/Map10-Calibration_5ms/C10_8716.NEF\n",
      "./Converted/C10_8716\n",
      "./H_18-11-22/Map10-Calibration_5ms/C10_8641.NEF\n",
      "./Converted/C10_8641\n",
      "./H_18-11-22/Map10-Calibration_5ms/C10_8787.NEF\n",
      "./Converted/C10_8787\n",
      "./H_18-11-22/Map10-Calibration_5ms/C10_8812.NEF\n",
      "./Converted/C10_8812\n",
      "./H_18-11-22/Map10-Calibration_5ms/C10_8718.NEF\n",
      "./Converted/C10_8718\n",
      "./H_18-11-22/Map10-Calibration_5ms/C10_8615.NEF\n",
      "./Converted/C10_8615\n",
      "./H_18-11-22/Map10-Calibration_5ms/C10_8733.NEF\n",
      "./Converted/C10_8733\n",
      "./H_18-11-22/Map10-Calibration_5ms/C10_8676.NEF\n",
      "./Converted/C10_8676\n",
      "./H_18-11-22/Map10-Calibration_5ms/C10_8800.NEF\n",
      "./Converted/C10_8800\n",
      "./H_18-11-22/Map10-Calibration_5ms/C10_8732.NEF\n",
      "./Converted/C10_8732\n",
      "./H_18-11-22/Map10-Calibration_5ms/C10_8681.NEF\n",
      "./Converted/C10_8681\n",
      "./H_18-11-22/Map10-Calibration_5ms/C10_8830.NEF\n",
      "./Converted/C10_8830\n",
      "./H_18-11-22/Map10-Calibration_5ms/C10_8814.NEF\n",
      "./Converted/C10_8814\n",
      "./H_18-11-22/Map10-Calibration_5ms/C10_8827.NEF\n",
      "./Converted/C10_8827\n",
      "./H_18-11-22/Map10-Calibration_5ms/C10_8829.NEF\n"
     ]
    }
   ],
   "source": [
    "from pathlib import Path\n",
    "import rawpy\n",
    "from PIL import Image\n",
    "import glob\n",
    "raw_names = glob.glob('./H_18-11-22/Map10-Calibration_5ms/*.NEF')\n",
    "for raw_name in raw_names:\n",
    "    # raw_path = os.path.join(dir_name, raw_name)\n",
    "    print(raw_name)\n",
    "    raw = rawpy.imread(raw_name)\n",
    "    # rgb = raw.postprocess(output_color=rawpy.ColorSpace.raw, gamma=(1, 1), use_camera_wb=False, output_bps=8,\n",
    "    #                       user_wb=[1.0, 1.0, 1.0, 1.0], no_auto_bright=True, bright=1.0,\n",
    "    #                       demosaic_algorithm=rawpy.DemosaicAlgorithm.LINEAR)\n",
    "    rgb = raw.postprocess()\n",
    "\n",
    "    # rgb = cv2.cvtColor(rgb, cv2.COLOR_RGB2BGR)\n",
    "    rgb = cv2.bitwise_not(rgb)\n",
    "    img_raw = Image.fromarray(rgb)  # Pillow image\n",
    "\n",
    "    hsv = cv2.cvtColor(rgb, cv2.COLOR_BGR2HSV)\n",
    "    alpha = 3.0  # Contrast control (1.0-3.0)\n",
    "    beta = 0  # Brightness control (0-100)\n",
    "    res = cv2.convertScaleAbs(hsv, alpha=alpha, beta=beta)\n",
    "\n",
    "    blur = cv2.GaussianBlur(res, (35, 35), 3)\n",
    "    bilateral = cv2.bilateralFilter(blur, 11, 75, 75)\n",
    "    denoised = cv2.fastNlMeansDenoisingColored(bilateral, None, 10, 10, 9, 61)\n",
    "    thresh = 220\n",
    "    maxval = 255\n",
    "\n",
    "    ret, thresh1 = cv2.threshold(denoised, thresh, maxval, cv2.THRESH_BINARY)\n",
    "    # res = res.astype(np.uint8)\n",
    "\n",
    "    # th3 = cv2.adaptiveThreshold(blur, 255, cv2.ADAPTIVE_THRESH_GAUSSIAN_C, cv2.THRESH_BINARY, 43, 3)\n",
    "    h, s, v = cv2.split(thresh1)\n",
    "    ret, gray_thr = cv2.threshold(s, 127, 255, cv2.THRESH_BINARY)\n",
    "\n",
    "    Path(save_dir).mkdir(parents=True, exist_ok=True)\n",
    "    save_name = os.path.basename(raw_name).split(os.extsep)[0]\n",
    "    save_path = os.path.join(save_dir, save_name)\n",
    "    print(save_path)\n",
    "    cv2.imwrite(save_path + '.png', gray_thr)"
   ],
   "metadata": {
    "collapsed": false,
    "pycharm": {
     "is_executing": true
    }
   }
  },
  {
   "cell_type": "code",
   "execution_count": null,
   "outputs": [],
   "source": [],
   "metadata": {
    "collapsed": false,
    "pycharm": {
     "is_executing": true
    }
   }
  }
 ],
 "metadata": {
  "kernelspec": {
   "display_name": "Python 3",
   "language": "python",
   "name": "python3"
  },
  "language_info": {
   "codemirror_mode": {
    "name": "ipython",
    "version": 2
   },
   "file_extension": ".py",
   "mimetype": "text/x-python",
   "name": "python",
   "nbconvert_exporter": "python",
   "pygments_lexer": "ipython2",
   "version": "2.7.6"
  }
 },
 "nbformat": 4,
 "nbformat_minor": 0
}
